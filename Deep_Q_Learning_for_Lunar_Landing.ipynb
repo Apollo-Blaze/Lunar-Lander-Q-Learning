{
  "cells": [
    {
      "cell_type": "markdown",
      "metadata": {
        "id": "LbZcI9ZXHl3a"
      },
      "source": [
        "# Deep Q-Learning for Lunar Landing"
      ]
    },
    {
      "cell_type": "markdown",
      "metadata": {
        "id": "E8yPRjteXgPb"
      },
      "source": [
        "## Installing the required packages and importing the libraries"
      ]
    },
    {
      "cell_type": "markdown",
      "metadata": {
        "id": "slEm5teGWjWU"
      },
      "source": [
        "### Installing Gymnasium"
      ]
    },
    {
      "cell_type": "code",
      "execution_count": 3,
      "metadata": {
        "id": "dbnq3XpoKa_7",
        "outputId": "141e4fdf-d68b-4c8f-abb0-71171d909604",
        "colab": {
          "base_uri": "https://localhost:8080/"
        }
      },
      "outputs": [
        {
          "output_type": "stream",
          "name": "stdout",
          "text": [
            "Collecting gymnasium\n",
            "  Downloading gymnasium-0.29.1-py3-none-any.whl.metadata (10 kB)\n",
            "Requirement already satisfied: numpy>=1.21.0 in /usr/local/lib/python3.10/dist-packages (from gymnasium) (1.26.4)\n",
            "Requirement already satisfied: cloudpickle>=1.2.0 in /usr/local/lib/python3.10/dist-packages (from gymnasium) (2.2.1)\n",
            "Requirement already satisfied: typing-extensions>=4.3.0 in /usr/local/lib/python3.10/dist-packages (from gymnasium) (4.12.2)\n",
            "Collecting farama-notifications>=0.0.1 (from gymnasium)\n",
            "  Downloading Farama_Notifications-0.0.4-py3-none-any.whl.metadata (558 bytes)\n",
            "Downloading gymnasium-0.29.1-py3-none-any.whl (953 kB)\n",
            "\u001b[?25l   \u001b[90m━━━━━━━━━━━━━━━━━━━━━━━━━━━━━━━━━━━━━━━━\u001b[0m \u001b[32m0.0/953.9 kB\u001b[0m \u001b[31m?\u001b[0m eta \u001b[36m-:--:--\u001b[0m\r\u001b[2K   \u001b[91m━━━━━━━━━━━━━━━━━━━━━━━━━━━━━━━━\u001b[0m\u001b[91m╸\u001b[0m\u001b[90m━━━━━━━\u001b[0m \u001b[32m778.2/953.9 kB\u001b[0m \u001b[31m23.3 MB/s\u001b[0m eta \u001b[36m0:00:01\u001b[0m\r\u001b[2K   \u001b[90m━━━━━━━━━━━━━━━━━━━━━━━━━━━━━━━━━━━━━━━━\u001b[0m \u001b[32m953.9/953.9 kB\u001b[0m \u001b[31m17.6 MB/s\u001b[0m eta \u001b[36m0:00:00\u001b[0m\n",
            "\u001b[?25hDownloading Farama_Notifications-0.0.4-py3-none-any.whl (2.5 kB)\n",
            "Installing collected packages: farama-notifications, gymnasium\n",
            "Successfully installed farama-notifications-0.0.4 gymnasium-0.29.1\n",
            "Requirement already satisfied: gymnasium[accept-rom-license,atari] in /usr/local/lib/python3.10/dist-packages (0.29.1)\n",
            "Requirement already satisfied: numpy>=1.21.0 in /usr/local/lib/python3.10/dist-packages (from gymnasium[accept-rom-license,atari]) (1.26.4)\n",
            "Requirement already satisfied: cloudpickle>=1.2.0 in /usr/local/lib/python3.10/dist-packages (from gymnasium[accept-rom-license,atari]) (2.2.1)\n",
            "Requirement already satisfied: typing-extensions>=4.3.0 in /usr/local/lib/python3.10/dist-packages (from gymnasium[accept-rom-license,atari]) (4.12.2)\n",
            "Requirement already satisfied: farama-notifications>=0.0.1 in /usr/local/lib/python3.10/dist-packages (from gymnasium[accept-rom-license,atari]) (0.0.4)\n",
            "Collecting shimmy<1.0,>=0.1.0 (from shimmy[atari]<1.0,>=0.1.0; extra == \"atari\"->gymnasium[accept-rom-license,atari])\n",
            "  Downloading Shimmy-0.2.1-py3-none-any.whl.metadata (2.3 kB)\n",
            "Collecting autorom~=0.4.2 (from autorom[accept-rom-license]~=0.4.2; extra == \"accept-rom-license\"->gymnasium[accept-rom-license,atari])\n",
            "  Downloading AutoROM-0.4.2-py3-none-any.whl.metadata (2.8 kB)\n",
            "Requirement already satisfied: click in /usr/local/lib/python3.10/dist-packages (from autorom~=0.4.2->autorom[accept-rom-license]~=0.4.2; extra == \"accept-rom-license\"->gymnasium[accept-rom-license,atari]) (8.1.7)\n",
            "Requirement already satisfied: requests in /usr/local/lib/python3.10/dist-packages (from autorom~=0.4.2->autorom[accept-rom-license]~=0.4.2; extra == \"accept-rom-license\"->gymnasium[accept-rom-license,atari]) (2.32.3)\n",
            "Requirement already satisfied: tqdm in /usr/local/lib/python3.10/dist-packages (from autorom~=0.4.2->autorom[accept-rom-license]~=0.4.2; extra == \"accept-rom-license\"->gymnasium[accept-rom-license,atari]) (4.66.5)\n",
            "Collecting AutoROM.accept-rom-license (from autorom[accept-rom-license]~=0.4.2; extra == \"accept-rom-license\"->gymnasium[accept-rom-license,atari])\n",
            "  Downloading AutoROM.accept-rom-license-0.6.1.tar.gz (434 kB)\n",
            "\u001b[2K     \u001b[90m━━━━━━━━━━━━━━━━━━━━━━━━━━━━━━━━━━━━━━━━\u001b[0m \u001b[32m434.7/434.7 kB\u001b[0m \u001b[31m11.0 MB/s\u001b[0m eta \u001b[36m0:00:00\u001b[0m\n",
            "\u001b[?25h  Installing build dependencies ... \u001b[?25l\u001b[?25hdone\n",
            "  Getting requirements to build wheel ... \u001b[?25l\u001b[?25hdone\n",
            "  Preparing metadata (pyproject.toml) ... \u001b[?25l\u001b[?25hdone\n",
            "Collecting ale-py~=0.8.1 (from shimmy[atari]<1.0,>=0.1.0; extra == \"atari\"->gymnasium[accept-rom-license,atari])\n",
            "  Downloading ale_py-0.8.1-cp310-cp310-manylinux_2_17_x86_64.manylinux2014_x86_64.whl.metadata (8.1 kB)\n",
            "Requirement already satisfied: importlib-resources in /usr/local/lib/python3.10/dist-packages (from ale-py~=0.8.1->shimmy[atari]<1.0,>=0.1.0; extra == \"atari\"->gymnasium[accept-rom-license,atari]) (6.4.3)\n",
            "Requirement already satisfied: charset-normalizer<4,>=2 in /usr/local/lib/python3.10/dist-packages (from requests->autorom~=0.4.2->autorom[accept-rom-license]~=0.4.2; extra == \"accept-rom-license\"->gymnasium[accept-rom-license,atari]) (3.3.2)\n",
            "Requirement already satisfied: idna<4,>=2.5 in /usr/local/lib/python3.10/dist-packages (from requests->autorom~=0.4.2->autorom[accept-rom-license]~=0.4.2; extra == \"accept-rom-license\"->gymnasium[accept-rom-license,atari]) (3.7)\n",
            "Requirement already satisfied: urllib3<3,>=1.21.1 in /usr/local/lib/python3.10/dist-packages (from requests->autorom~=0.4.2->autorom[accept-rom-license]~=0.4.2; extra == \"accept-rom-license\"->gymnasium[accept-rom-license,atari]) (2.0.7)\n",
            "Requirement already satisfied: certifi>=2017.4.17 in /usr/local/lib/python3.10/dist-packages (from requests->autorom~=0.4.2->autorom[accept-rom-license]~=0.4.2; extra == \"accept-rom-license\"->gymnasium[accept-rom-license,atari]) (2024.7.4)\n",
            "Downloading AutoROM-0.4.2-py3-none-any.whl (16 kB)\n",
            "Downloading Shimmy-0.2.1-py3-none-any.whl (25 kB)\n",
            "Downloading ale_py-0.8.1-cp310-cp310-manylinux_2_17_x86_64.manylinux2014_x86_64.whl (1.7 MB)\n",
            "\u001b[2K   \u001b[90m━━━━━━━━━━━━━━━━━━━━━━━━━━━━━━━━━━━━━━━━\u001b[0m \u001b[32m1.7/1.7 MB\u001b[0m \u001b[31m44.6 MB/s\u001b[0m eta \u001b[36m0:00:00\u001b[0m\n",
            "\u001b[?25hBuilding wheels for collected packages: AutoROM.accept-rom-license\n",
            "  Building wheel for AutoROM.accept-rom-license (pyproject.toml) ... \u001b[?25l\u001b[?25hdone\n",
            "  Created wheel for AutoROM.accept-rom-license: filename=AutoROM.accept_rom_license-0.6.1-py3-none-any.whl size=446661 sha256=99fcb41afb8dea4a5819ee45c6d6ea27dd389843a7d985324fc0e2d6111645dd\n",
            "  Stored in directory: /root/.cache/pip/wheels/6b/1b/ef/a43ff1a2f1736d5711faa1ba4c1f61be1131b8899e6a057811\n",
            "Successfully built AutoROM.accept-rom-license\n",
            "Installing collected packages: ale-py, shimmy, AutoROM.accept-rom-license, autorom\n",
            "Successfully installed AutoROM.accept-rom-license-0.6.1 ale-py-0.8.1 autorom-0.4.2 shimmy-0.2.1\n",
            "Reading package lists... Done\n",
            "Building dependency tree... Done\n",
            "Reading state information... Done\n",
            "The following additional packages will be installed:\n",
            "  swig4.0\n",
            "Suggested packages:\n",
            "  swig-doc swig-examples swig4.0-examples swig4.0-doc\n",
            "The following NEW packages will be installed:\n",
            "  swig swig4.0\n",
            "0 upgraded, 2 newly installed, 0 to remove and 45 not upgraded.\n",
            "Need to get 1,116 kB of archives.\n",
            "After this operation, 5,542 kB of additional disk space will be used.\n",
            "Get:1 http://archive.ubuntu.com/ubuntu jammy/universe amd64 swig4.0 amd64 4.0.2-1ubuntu1 [1,110 kB]\n",
            "Get:2 http://archive.ubuntu.com/ubuntu jammy/universe amd64 swig all 4.0.2-1ubuntu1 [5,632 B]\n",
            "Fetched 1,116 kB in 1s (1,755 kB/s)\n",
            "Selecting previously unselected package swig4.0.\n",
            "(Reading database ... 123595 files and directories currently installed.)\n",
            "Preparing to unpack .../swig4.0_4.0.2-1ubuntu1_amd64.deb ...\n",
            "Unpacking swig4.0 (4.0.2-1ubuntu1) ...\n",
            "Selecting previously unselected package swig.\n",
            "Preparing to unpack .../swig_4.0.2-1ubuntu1_all.deb ...\n",
            "Unpacking swig (4.0.2-1ubuntu1) ...\n",
            "Setting up swig4.0 (4.0.2-1ubuntu1) ...\n",
            "Setting up swig (4.0.2-1ubuntu1) ...\n",
            "Processing triggers for man-db (2.10.2-1) ...\n",
            "Requirement already satisfied: gymnasium[box2d] in /usr/local/lib/python3.10/dist-packages (0.29.1)\n",
            "Requirement already satisfied: numpy>=1.21.0 in /usr/local/lib/python3.10/dist-packages (from gymnasium[box2d]) (1.26.4)\n",
            "Requirement already satisfied: cloudpickle>=1.2.0 in /usr/local/lib/python3.10/dist-packages (from gymnasium[box2d]) (2.2.1)\n",
            "Requirement already satisfied: typing-extensions>=4.3.0 in /usr/local/lib/python3.10/dist-packages (from gymnasium[box2d]) (4.12.2)\n",
            "Requirement already satisfied: farama-notifications>=0.0.1 in /usr/local/lib/python3.10/dist-packages (from gymnasium[box2d]) (0.0.4)\n",
            "Collecting box2d-py==2.3.5 (from gymnasium[box2d])\n",
            "  Downloading box2d-py-2.3.5.tar.gz (374 kB)\n",
            "\u001b[2K     \u001b[90m━━━━━━━━━━━━━━━━━━━━━━━━━━━━━━━━━━━━━━━━\u001b[0m \u001b[32m374.4/374.4 kB\u001b[0m \u001b[31m9.6 MB/s\u001b[0m eta \u001b[36m0:00:00\u001b[0m\n",
            "\u001b[?25h  Preparing metadata (setup.py) ... \u001b[?25l\u001b[?25hdone\n",
            "Requirement already satisfied: pygame>=2.1.3 in /usr/local/lib/python3.10/dist-packages (from gymnasium[box2d]) (2.6.0)\n",
            "Collecting swig==4.* (from gymnasium[box2d])\n",
            "  Downloading swig-4.2.1-py2.py3-none-manylinux_2_5_x86_64.manylinux1_x86_64.whl.metadata (3.6 kB)\n",
            "Downloading swig-4.2.1-py2.py3-none-manylinux_2_5_x86_64.manylinux1_x86_64.whl (1.9 MB)\n",
            "\u001b[2K   \u001b[90m━━━━━━━━━━━━━━━━━━━━━━━━━━━━━━━━━━━━━━━━\u001b[0m \u001b[32m1.9/1.9 MB\u001b[0m \u001b[31m51.3 MB/s\u001b[0m eta \u001b[36m0:00:00\u001b[0m\n",
            "\u001b[?25hBuilding wheels for collected packages: box2d-py\n",
            "  Building wheel for box2d-py (setup.py) ... \u001b[?25l\u001b[?25hdone\n",
            "  Created wheel for box2d-py: filename=box2d_py-2.3.5-cp310-cp310-linux_x86_64.whl size=2349137 sha256=446808c99ba671fa70be80e507007ca467814a55214954f4db7c1af5c1aac460\n",
            "  Stored in directory: /root/.cache/pip/wheels/db/8f/6a/eaaadf056fba10a98d986f6dce954e6201ba3126926fc5ad9e\n",
            "Successfully built box2d-py\n",
            "Installing collected packages: swig, box2d-py\n",
            "Successfully installed box2d-py-2.3.5 swig-4.2.1\n"
          ]
        }
      ],
      "source": [
        "!pip install gymnasium\n",
        "!pip install \"gymnasium[atari, accept-rom-license]\"\n",
        "!apt-get install -y swig\n",
        "!pip install gymnasium[box2d]"
      ]
    },
    {
      "cell_type": "markdown",
      "metadata": {
        "id": "brqiMN3UW9T9"
      },
      "source": [
        "### Importing the libraries"
      ]
    },
    {
      "cell_type": "code",
      "execution_count": 4,
      "metadata": {
        "id": "mZaKXP_aMl9O"
      },
      "outputs": [],
      "source": [
        "import os\n",
        "import random\n",
        "import numpy as np\n",
        "import torch\n",
        "import torch.nn as nn\n",
        "import torch.optim as optim\n",
        "import torch.nn.functional as F\n",
        "import torch.autograd as autograd\n",
        "from torch.autograd import Variable\n",
        "from collections import deque, namedtuple"
      ]
    },
    {
      "cell_type": "markdown",
      "metadata": {
        "id": "EzlDKXvkXzGI"
      },
      "source": [
        "##  Building the AI"
      ]
    },
    {
      "cell_type": "markdown",
      "metadata": {
        "id": "UtG6Zc83YYy3"
      },
      "source": [
        "### Creating the architecture of the Neural Network"
      ]
    },
    {
      "cell_type": "code",
      "source": [
        "class Network(nn.Module):\n",
        "\n",
        "  def __init__(self,state_size,action_size,seed=42)->None:\n",
        "    super(Network,self).__init__()\n",
        "    self.seed=torch.manual_seed(seed)\n",
        "    self.fc1=nn.Linear(8,64)\n",
        "    self.fc2=nn.Linear(64,64)\n",
        "    self.fc3=nn.Linear(64,action_size)\n",
        "  def forward(self,state):\n",
        "    x=self.fc1(state)\n",
        "    x=F.relu(x)\n",
        "    x=self.fc2(x)\n",
        "    x=F.relu(x)\n",
        "    return self.fc3(x)"
      ],
      "metadata": {
        "colab": {
          "base_uri": "https://localhost:8080/"
        },
        "id": "KUO4bWmEx-y8",
        "outputId": "728eeb19-84c8-4420-dac7-839cb4084683"
      },
      "execution_count": 19,
      "outputs": [
        {
          "output_type": "stream",
          "name": "stderr",
          "text": [
            "/usr/local/lib/python3.10/dist-packages/ipykernel/ipkernel.py:283: DeprecationWarning: `should_run_async` will not call `transform_cell` automatically in the future. Please pass the result to `transformed_cell` argument and any exception that happen during thetransform in `preprocessing_exc_tuple` in IPython 7.17 and above.\n",
            "  and should_run_async(code)\n"
          ]
        }
      ]
    },
    {
      "cell_type": "markdown",
      "source": [
        "**Action Space**\n",
        "There are four discrete actions available:\n",
        "\n",
        "0: do nothing\n",
        "\n",
        "1: fire left orientation engine\n",
        "\n",
        "2: fire main engine\n",
        "\n",
        "3: fire right orientation engine\n",
        "\n",
        "\n",
        "**Observation Space**\n",
        "\n",
        "The state is an 8-dimensional vector: the coordinates of the lander in x & y its linear velocities in x & y, its angle, its angular velocity, and two booleans that represent whether each leg is in contact with the ground or not"
      ],
      "metadata": {
        "id": "YpMFN-mGzH-h"
      }
    },
    {
      "cell_type": "markdown",
      "metadata": {
        "id": "UxVrBnFWZKb1"
      },
      "source": [
        "##  Training the AI"
      ]
    },
    {
      "cell_type": "markdown",
      "metadata": {
        "id": "T364fz9qZb2j"
      },
      "source": [
        "### Setting up the environment"
      ]
    },
    {
      "cell_type": "code",
      "source": [
        "import gymnasium as gym\n",
        "env=gym.make('LunarLander-v2')\n",
        "state_shape=env.observation_space.shape\n",
        "state_size=env.observation_space.shape[0]\n",
        "number_actions=env.action_space.n\n",
        "\n",
        "print(f'State shape: {state_shape}')\n",
        "print(f'State size: {state_size}')\n",
        "print(f'Number of actions: {number_actions}')"
      ],
      "metadata": {
        "colab": {
          "base_uri": "https://localhost:8080/"
        },
        "id": "J4YA7B0y2Cim",
        "outputId": "9fc03fe9-ba3c-44c8-917d-240599c4d5cd"
      },
      "execution_count": 20,
      "outputs": [
        {
          "output_type": "stream",
          "name": "stdout",
          "text": [
            "State shape: (8,)\n",
            "State size: 8\n",
            "Number of actions: 4\n"
          ]
        }
      ]
    },
    {
      "cell_type": "markdown",
      "metadata": {
        "id": "c_dZmOIvZgj-"
      },
      "source": [
        "### Initializing the hyperparameters"
      ]
    },
    {
      "cell_type": "code",
      "source": [
        "learning_rate=5e-4\n",
        "minibatch_size=100\n",
        "discount_factor=0.99\n",
        "replay_buffer_size=int(1e5)\n",
        "interpolation_parameter=1e-3\n"
      ],
      "metadata": {
        "id": "z3m_xStt2DTo"
      },
      "execution_count": 21,
      "outputs": []
    },
    {
      "cell_type": "markdown",
      "metadata": {
        "id": "8hD_Vs-bYnip"
      },
      "source": [
        "### Implementing Experience Replay"
      ]
    },
    {
      "cell_type": "code",
      "source": [
        "class ReplayMemory(object):\n",
        "\n",
        "  def __init__(self, capacity):\n",
        "    self.device = torch.device(\"cuda:0\" if torch.cuda.is_available() else \"cpu\")\n",
        "    self.capacity = capacity\n",
        "    self.memory = []\n",
        "\n",
        "  def push(self,event):\n",
        "    self.memory.append(event)\n",
        "    if len(self.memory) > self.capacity:\n",
        "      del self.memory[0]\n",
        "\n",
        "  def sample(self, batch_size):\n",
        "    experiences = random.sample(self.memory, k = batch_size)\n",
        "    states=torch.from_numpy(np.vstack([e[0] for e in experiences if e is not None])).float().to(self.device)\n",
        "    actions=torch.from_numpy(np.vstack([e[1] for e in experiences if e is not None])).long().to(self.device)\n",
        "    rewards=torch.from_numpy(np.vstack([e[2] for e in experiences if e is not None])).float().to(self.device)\n",
        "    next_states=torch.from_numpy(np.vstack([e[3] for e in experiences if e is not None])).float().to(self.device)\n",
        "    dones=torch.from_numpy(np.vstack([e[4] for e in experiences if e is not None]).astype(np.uint8)).float().to(self.device)\n",
        "    return states,next_states,actions,rewards,dones"
      ],
      "metadata": {
        "id": "CEWes-bO2Dzt"
      },
      "execution_count": 22,
      "outputs": []
    },
    {
      "cell_type": "markdown",
      "metadata": {
        "id": "JmEkbFbUY6Jt"
      },
      "source": [
        "### Implementing the DQN class"
      ]
    },
    {
      "cell_type": "code",
      "source": [
        "class Agent():\n",
        "\n",
        "  def __init__(self,state_size,action_size):\n",
        "    self.device = torch.device(\"cuda:0\" if torch.cuda.is_available() else \"cpu\")\n",
        "    self.state_size=state_size\n",
        "    self.action_size=action_size\n",
        "    self.local_qnetwork=Network(state_size,action_size).to(self.device)\n",
        "    self.target_qnetwork=Network(state_size,action_size).to(self.device)\n",
        "    self.optimizer=optim.Adam(self.local_qnetwork.parameters(),lr=learning_rate)\n",
        "    self.memory=ReplayMemory(replay_buffer_size)\n",
        "    self.t_step = 0\n",
        "\n",
        "  def step(self,state,action,reward,next_state,done):\n",
        "    self.memory.push((state,action,reward,next_state,done))\n",
        "    self.t=(self.t_step+1)%4\n",
        "    if self.t_step==0:\n",
        "      if len(self.memory.memory)>minibatch_size:\n",
        "        experiences=self.memory.sample(minibatch_size)\n",
        "        self.learn(experiences,discount_factor)\n",
        "\n",
        "  def act(self,state,epsilon=0.):\n",
        "    state=torch.from_numpy(state).float().unsqueeze(0).to(self.device)\n",
        "    self.local_qnetwork.eval()\n",
        "    with torch.no_grad():\n",
        "      action_values=self.local_qnetwork(state)\n",
        "    self.local_qnetwork.train()\n",
        "    if random.random()>epsilon:\n",
        "      return np.argmax(action_values.cpu().data.numpy())\n",
        "    else:\n",
        "      return random.choice(np.arange(self.action_size))\n",
        "\n",
        "  def learn(self,experiences,discount_factor):\n",
        "    states,next_states,actions,rewards,dones=experiences\n",
        "    next_q_targets=self.target_qnetwork(next_states).detach().max(1)[0].unsqueeze(1)\n",
        "    q_targets=rewards+discount_factor*next_q_targets*(1-dones)\n",
        "    q_expected = self.local_qnetwork(states).gather(1, actions)\n",
        "    loss = F.mse_loss(q_expected, q_targets)\n",
        "    self.optimizer.zero_grad()\n",
        "    loss.backward()\n",
        "    self.optimizer.step()\n",
        "    self.soft_update(self.local_qnetwork, self.target_qnetwork, interpolation_parameter)\n",
        "\n",
        "  def soft_update(self, local_model, target_model, interpolation_parameter):\n",
        "    for target_param, local_param in zip(target_model.parameters(), local_model.parameters()):\n",
        "      target_param.data.copy_(interpolation_parameter * local_param.data + (1.0 - interpolation_parameter) * target_param.data)"
      ],
      "metadata": {
        "id": "vAy7sAna2Eae"
      },
      "execution_count": 23,
      "outputs": []
    },
    {
      "cell_type": "markdown",
      "metadata": {
        "id": "o1tZElccZmf6"
      },
      "source": [
        "### Initializing the DQN agent"
      ]
    },
    {
      "cell_type": "code",
      "source": [
        "agent = Agent(state_size, number_actions)"
      ],
      "metadata": {
        "id": "j73xCytB2FJY"
      },
      "execution_count": 24,
      "outputs": []
    },
    {
      "cell_type": "markdown",
      "metadata": {
        "id": "E8v0PtUfaVQp"
      },
      "source": [
        "### Training the DQN agent"
      ]
    },
    {
      "cell_type": "code",
      "source": [
        "number_episodes = 2000\n",
        "maximum_number_timesteps_per_episode = 1000\n",
        "epsilon_starting_value  = 1.0\n",
        "epsilon_ending_value  = 0.01\n",
        "epsilon_decay_value  = 0.995\n",
        "epsilon = epsilon_starting_value\n",
        "scores_on_100_episodes = deque(maxlen = 100)\n",
        "\n",
        "for episode in range(1, number_episodes + 1):\n",
        "  state, _ = env.reset()\n",
        "  score = 0\n",
        "  for t in range(maximum_number_timesteps_per_episode):\n",
        "    action = agent.act(state, epsilon)\n",
        "    next_state, reward, done, _, _ = env.step(action)\n",
        "    agent.step(state, action, reward, next_state, done)\n",
        "    state = next_state\n",
        "    score += reward\n",
        "    if done:\n",
        "      break\n",
        "  scores_on_100_episodes.append(score)\n",
        "  epsilon = max(epsilon_ending_value, epsilon_decay_value * epsilon)\n",
        "  print('\\rEpisode {}\\tAverage Score: {:.2f}'.format(episode, np.mean(scores_on_100_episodes)), end = \"\")\n",
        "  if episode % 100 == 0:\n",
        "    print('\\rEpisode {}\\tAverage Score: {:.2f}'.format(episode, np.mean(scores_on_100_episodes)))\n",
        "  if np.mean(scores_on_100_episodes) >= 250.0:\n",
        "    print('\\nEnvironment solved in {:d} episodes!\\tAverage Score: {:.2f}'.format(episode - 100, np.mean(scores_on_100_episodes)))\n",
        "    torch.save(agent.local_qnetwork.state_dict(), 'checkpoint.pth')\n",
        "    break"
      ],
      "metadata": {
        "colab": {
          "base_uri": "https://localhost:8080/"
        },
        "id": "xKbS6uR-2FoH",
        "outputId": "eeb9fd55-0fca-45ac-d6af-cc624f27878c"
      },
      "execution_count": 29,
      "outputs": [
        {
          "output_type": "stream",
          "name": "stdout",
          "text": [
            "Episode 100\tAverage Score: -96.92\n",
            "Episode 200\tAverage Score: -25.76\n",
            "Episode 300\tAverage Score: 75.30\n",
            "Episode 400\tAverage Score: 164.72\n",
            "Episode 500\tAverage Score: 220.13\n",
            "Episode 548\tAverage Score: 252.42\n",
            "Environment solved in 448 episodes!\tAverage Score: 252.42\n"
          ]
        }
      ]
    },
    {
      "cell_type": "markdown",
      "metadata": {
        "id": "O8CNwdOTcCoP"
      },
      "source": [
        "##  Visualizing the results"
      ]
    },
    {
      "cell_type": "code",
      "execution_count": 30,
      "metadata": {
        "id": "cb9nVvU2Okhk",
        "colab": {
          "base_uri": "https://localhost:8080/",
          "height": 459
        },
        "outputId": "f72522d5-9831-47b5-e18e-0653b844d324"
      },
      "outputs": [
        {
          "output_type": "stream",
          "name": "stderr",
          "text": [
            "WARNING:imageio_ffmpeg:IMAGEIO FFMPEG_WRITER WARNING: input image is not divisible by macro_block_size=16, resizing from (600, 400) to (608, 400) to ensure video compatibility with most codecs and players. To prevent resizing, make your input image divisible by the macro_block_size or set the macro_block_size to 1 (risking incompatibility).\n"
          ]
        },
        {
          "output_type": "display_data",
          "data": {
            "text/plain": [
              "<IPython.core.display.HTML object>"
            ],
            "text/html": [
              "<video alt=\"test\" autoplay\n",
              "                loop controls style=\"height: 400px;\">\n",
              "                <source src=\"data:video/mp4;base64,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\" type=\"video/mp4\" />\n",
              "             </video>"
            ]
          },
          "metadata": {}
        }
      ],
      "source": [
        "import glob\n",
        "import io\n",
        "import base64\n",
        "import imageio\n",
        "from IPython.display import HTML, display\n",
        "from gym.wrappers.monitoring.video_recorder import VideoRecorder\n",
        "\n",
        "def show_video_of_model(agent, env_name):\n",
        "    env = gym.make(env_name, render_mode='rgb_array')\n",
        "    state, _ = env.reset()\n",
        "    done = False\n",
        "    frames = []\n",
        "    while not done:\n",
        "        frame = env.render()\n",
        "        frames.append(frame)\n",
        "        action = agent.act(state)\n",
        "        state, reward, done, _, _ = env.step(action.item())\n",
        "    env.close()\n",
        "    imageio.mimsave('video.mp4', frames, fps=30)\n",
        "\n",
        "show_video_of_model(agent, 'LunarLander-v2')\n",
        "\n",
        "def show_video():\n",
        "    mp4list = glob.glob('*.mp4')\n",
        "    if len(mp4list) > 0:\n",
        "        mp4 = mp4list[0]\n",
        "        video = io.open(mp4, 'r+b').read()\n",
        "        encoded = base64.b64encode(video)\n",
        "        display(HTML(data='''<video alt=\"test\" autoplay\n",
        "                loop controls style=\"height: 400px;\">\n",
        "                <source src=\"data:video/mp4;base64,{0}\" type=\"video/mp4\" />\n",
        "             </video>'''.format(encoded.decode('ascii'))))\n",
        "    else:\n",
        "        print(\"Could not find video\")\n",
        "\n",
        "show_video()"
      ]
    },
    {
      "cell_type": "code",
      "source": [],
      "metadata": {
        "id": "Hid-aXz--Lgj"
      },
      "execution_count": null,
      "outputs": []
    }
  ],
  "metadata": {
    "colab": {
      "provenance": []
    },
    "kernelspec": {
      "display_name": "Python 3",
      "name": "python3"
    },
    "language_info": {
      "name": "python"
    }
  },
  "nbformat": 4,
  "nbformat_minor": 0
}